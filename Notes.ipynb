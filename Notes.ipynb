{
 "cells": [
  {
   "cell_type": "code",
   "execution_count": null,
   "id": "c5283521",
   "metadata": {},
   "outputs": [],
   "source": [
    "# Flow Chart  quick DBD code\n",
    "Departments\n",
    "-\n",
    "dept_no varchar pk\n",
    "dept_name varchar\n",
    "\n",
    "Employees\n",
    "-\n",
    "emp_no int pk FK >- Titles.emp_no\n",
    "birth_date date\n",
    "first_name varchar\n",
    "last_name varchar\n",
    "gender varchar\n",
    "hire_date date\n",
    "\n",
    "Managers\n",
    "-\n",
    "dept_no varchar pk fk - Departments.dept_no\n",
    "emp_no int fk -< Employees.emp_no\n",
    "from_date date\n",
    "to_date date\n",
    "\n",
    "Salaries\n",
    "-\n",
    "emp_no int pk fk -< Titles.emp_no\n",
    "salary int\n",
    "from_date date\n",
    "to_date date\n",
    "\n",
    "Titles\n",
    "-\n",
    "emp_no int pk fk -< Dept_Emp.emp_no\n",
    "title varchar\n",
    "from_date date\n",
    "to_date date\n",
    "\n",
    "Dept_Emp\n",
    "-\n",
    "emp_no int pk fk -< Managers.emp_no \n",
    "dept_no int FK >- Departments.dept_no\n",
    "from_date date\n",
    "to_date date\n"
   ]
  }
 ],
 "metadata": {
  "kernelspec": {
   "display_name": "PythonData",
   "language": "python",
   "name": "pythondata"
  },
  "language_info": {
   "codemirror_mode": {
    "name": "ipython",
    "version": 3
   },
   "file_extension": ".py",
   "mimetype": "text/x-python",
   "name": "python",
   "nbconvert_exporter": "python",
   "pygments_lexer": "ipython3",
   "version": "3.9.7"
  }
 },
 "nbformat": 4,
 "nbformat_minor": 5
}
